{
  "cells": [
    {
      "cell_type": "code",
      "source": [
        "!pip install qiskit\n",
        "!pip install qiskit qiskit-aer\n",
        "!pip install pylatexenc"
      ],
      "metadata": {
        "colab": {
          "base_uri": "https://localhost:8080/"
        },
        "id": "DbRxo_Xly4WC",
        "outputId": "5f64922f-dcb8-492a-ec99-5efb4d52d07f"
      },
      "id": "DbRxo_Xly4WC",
      "execution_count": 1,
      "outputs": [
        {
          "output_type": "stream",
          "name": "stdout",
          "text": [
            "Collecting qiskit\n",
            "  Downloading qiskit-2.2.2-cp39-abi3-manylinux2014_x86_64.manylinux_2_17_x86_64.whl.metadata (12 kB)\n",
            "Collecting rustworkx>=0.15.0 (from qiskit)\n",
            "  Downloading rustworkx-0.17.1-cp39-abi3-manylinux_2_17_x86_64.manylinux2014_x86_64.whl.metadata (10 kB)\n",
            "Requirement already satisfied: numpy<3,>=1.17 in /usr/local/lib/python3.12/dist-packages (from qiskit) (2.0.2)\n",
            "Requirement already satisfied: scipy>=1.5 in /usr/local/lib/python3.12/dist-packages (from qiskit) (1.16.2)\n",
            "Requirement already satisfied: dill>=0.3 in /usr/local/lib/python3.12/dist-packages (from qiskit) (0.3.8)\n",
            "Collecting stevedore>=3.0.0 (from qiskit)\n",
            "  Downloading stevedore-5.5.0-py3-none-any.whl.metadata (2.2 kB)\n",
            "Requirement already satisfied: typing-extensions in /usr/local/lib/python3.12/dist-packages (from qiskit) (4.15.0)\n",
            "Downloading qiskit-2.2.2-cp39-abi3-manylinux2014_x86_64.manylinux_2_17_x86_64.whl (8.0 MB)\n",
            "\u001b[2K   \u001b[90m━━━━━━━━━━━━━━━━━━━━━━━━━━━━━━━━━━━━━━━━\u001b[0m \u001b[32m8.0/8.0 MB\u001b[0m \u001b[31m95.1 MB/s\u001b[0m eta \u001b[36m0:00:00\u001b[0m\n",
            "\u001b[?25hDownloading rustworkx-0.17.1-cp39-abi3-manylinux_2_17_x86_64.manylinux2014_x86_64.whl (2.2 MB)\n",
            "\u001b[2K   \u001b[90m━━━━━━━━━━━━━━━━━━━━━━━━━━━━━━━━━━━━━━━━\u001b[0m \u001b[32m2.2/2.2 MB\u001b[0m \u001b[31m113.8 MB/s\u001b[0m eta \u001b[36m0:00:00\u001b[0m\n",
            "\u001b[?25hDownloading stevedore-5.5.0-py3-none-any.whl (49 kB)\n",
            "\u001b[2K   \u001b[90m━━━━━━━━━━━━━━━━━━━━━━━━━━━━━━━━━━━━━━━━\u001b[0m \u001b[32m49.5/49.5 kB\u001b[0m \u001b[31m5.2 MB/s\u001b[0m eta \u001b[36m0:00:00\u001b[0m\n",
            "\u001b[?25hInstalling collected packages: stevedore, rustworkx, qiskit\n",
            "Successfully installed qiskit-2.2.2 rustworkx-0.17.1 stevedore-5.5.0\n",
            "Requirement already satisfied: qiskit in /usr/local/lib/python3.12/dist-packages (2.2.2)\n",
            "Collecting qiskit-aer\n",
            "  Downloading qiskit_aer-0.17.2-cp312-cp312-manylinux_2_17_x86_64.manylinux2014_x86_64.whl.metadata (8.3 kB)\n",
            "Requirement already satisfied: rustworkx>=0.15.0 in /usr/local/lib/python3.12/dist-packages (from qiskit) (0.17.1)\n",
            "Requirement already satisfied: numpy<3,>=1.17 in /usr/local/lib/python3.12/dist-packages (from qiskit) (2.0.2)\n",
            "Requirement already satisfied: scipy>=1.5 in /usr/local/lib/python3.12/dist-packages (from qiskit) (1.16.2)\n",
            "Requirement already satisfied: dill>=0.3 in /usr/local/lib/python3.12/dist-packages (from qiskit) (0.3.8)\n",
            "Requirement already satisfied: stevedore>=3.0.0 in /usr/local/lib/python3.12/dist-packages (from qiskit) (5.5.0)\n",
            "Requirement already satisfied: typing-extensions in /usr/local/lib/python3.12/dist-packages (from qiskit) (4.15.0)\n",
            "Requirement already satisfied: psutil>=5 in /usr/local/lib/python3.12/dist-packages (from qiskit-aer) (5.9.5)\n",
            "Requirement already satisfied: python-dateutil>=2.8.0 in /usr/local/lib/python3.12/dist-packages (from qiskit-aer) (2.9.0.post0)\n",
            "Requirement already satisfied: six>=1.5 in /usr/local/lib/python3.12/dist-packages (from python-dateutil>=2.8.0->qiskit-aer) (1.17.0)\n",
            "Downloading qiskit_aer-0.17.2-cp312-cp312-manylinux_2_17_x86_64.manylinux2014_x86_64.whl (12.4 MB)\n",
            "\u001b[2K   \u001b[90m━━━━━━━━━━━━━━━━━━━━━━━━━━━━━━━━━━━━━━━━\u001b[0m \u001b[32m12.4/12.4 MB\u001b[0m \u001b[31m144.6 MB/s\u001b[0m eta \u001b[36m0:00:00\u001b[0m\n",
            "\u001b[?25hInstalling collected packages: qiskit-aer\n",
            "Successfully installed qiskit-aer-0.17.2\n",
            "Collecting pylatexenc\n",
            "  Downloading pylatexenc-2.10.tar.gz (162 kB)\n",
            "\u001b[2K     \u001b[90m━━━━━━━━━━━━━━━━━━━━━━━━━━━━━━━━━━━━━━━\u001b[0m \u001b[32m162.6/162.6 kB\u001b[0m \u001b[31m7.2 MB/s\u001b[0m eta \u001b[36m0:00:00\u001b[0m\n",
            "\u001b[?25h  Preparing metadata (setup.py) ... \u001b[?25l\u001b[?25hdone\n",
            "Building wheels for collected packages: pylatexenc\n",
            "  Building wheel for pylatexenc (setup.py) ... \u001b[?25l\u001b[?25hdone\n",
            "  Created wheel for pylatexenc: filename=pylatexenc-2.10-py3-none-any.whl size=136817 sha256=70c376ff3100d981d59baefea4c59b948be20994e6e5df0a49bdf437d69a1759\n",
            "  Stored in directory: /root/.cache/pip/wheels/06/3e/78/fa1588c1ae991bbfd814af2bcac6cef7a178beee1939180d46\n",
            "Successfully built pylatexenc\n",
            "Installing collected packages: pylatexenc\n",
            "Successfully installed pylatexenc-2.10\n"
          ]
        }
      ]
    },
    {
      "cell_type": "code",
      "execution_count": 2,
      "id": "bcfe036b",
      "metadata": {
        "id": "bcfe036b"
      },
      "outputs": [],
      "source": [
        "# Import libraries\n",
        "from qiskit import QuantumCircuit\n",
        "from qiskit_aer import AerSimulator\n",
        "from qiskit.visualization import plot_histogram\n",
        "import matplotlib.pyplot as plt"
      ]
    },
    {
      "cell_type": "code",
      "source": [
        "# Step 1: Create a quantum circuit with 2 qubits and 2 classical bits\n",
        "qc = QuantumCircuit(2, 2)"
      ],
      "metadata": {
        "id": "756nXICn1Bc3"
      },
      "id": "756nXICn1Bc3",
      "execution_count": 3,
      "outputs": []
    },
    {
      "cell_type": "code",
      "source": [
        "# Step 2: Apply gates to demonstrate tensor product states\n",
        "qc.x(0)  # Apply X gate on qubit 0 → |10>"
      ],
      "metadata": {
        "colab": {
          "base_uri": "https://localhost:8080/"
        },
        "id": "eDhUQ9xT1C_o",
        "outputId": "2665ad7f-178d-4958-ff12-b0db5a130c54"
      },
      "id": "eDhUQ9xT1C_o",
      "execution_count": 4,
      "outputs": [
        {
          "output_type": "execute_result",
          "data": {
            "text/plain": [
              "<qiskit.circuit.instructionset.InstructionSet at 0x7ac0bcd10250>"
            ]
          },
          "metadata": {},
          "execution_count": 4
        }
      ]
    },
    {
      "cell_type": "code",
      "source": [
        "# Step 3: Measure both qubits\n",
        "qc.measure([0, 1], [0, 1])"
      ],
      "metadata": {
        "colab": {
          "base_uri": "https://localhost:8080/"
        },
        "id": "WoXYGAQC1GGU",
        "outputId": "248b7f3b-be04-47d8-f88b-b2bfcc0a666f"
      },
      "id": "WoXYGAQC1GGU",
      "execution_count": 5,
      "outputs": [
        {
          "output_type": "execute_result",
          "data": {
            "text/plain": [
              "<qiskit.circuit.instructionset.InstructionSet at 0x7ac0bc594430>"
            ]
          },
          "metadata": {},
          "execution_count": 5
        }
      ]
    },
    {
      "cell_type": "code",
      "source": [
        "# Step 4: Use AerSimulator (new standard in Qiskit 2.x)\n",
        "simulator = AerSimulator()\n",
        "\n",
        "# Transpile the circuit for the simulator\n",
        "from qiskit import transpile\n",
        "compiled_circuit = transpile(qc, simulator)\n",
        "\n",
        "# Run the circuit\n",
        "job = simulator.run(compiled_circuit, shots=1024)\n",
        "result = job.result()\n",
        "\n",
        "# Get counts\n",
        "counts = result.get_counts()"
      ],
      "metadata": {
        "id": "4THEs7hr1HpE"
      },
      "id": "4THEs7hr1HpE",
      "execution_count": 6,
      "outputs": []
    },
    {
      "cell_type": "code",
      "source": [
        "# Step 5: Display circuit and results\n",
        "print(\"Measurement Results:\", counts)\n",
        "qc.draw('text')\n",
        "plt.show()\n",
        "plot_histogram(counts)\n",
        "plt.show()"
      ],
      "metadata": {
        "colab": {
          "base_uri": "https://localhost:8080/"
        },
        "id": "Jt8Ne3kH1Jcc",
        "outputId": "536f88b2-7408-48d2-fd4e-5cb044f1eb34"
      },
      "id": "Jt8Ne3kH1Jcc",
      "execution_count": 7,
      "outputs": [
        {
          "output_type": "stream",
          "name": "stdout",
          "text": [
            "Measurement Results: {'01': 1024}\n"
          ]
        }
      ]
    },
    {
      "cell_type": "markdown",
      "source": [
        "**TASK 1**"
      ],
      "metadata": {
        "id": "0hFsY552_CIO"
      },
      "id": "0hFsY552_CIO"
    },
    {
      "cell_type": "code",
      "source": [
        "# Task 1: Apply Hadamard on both qubits\n",
        "\n",
        "from qiskit import QuantumCircuit, transpile\n",
        "from qiskit_aer import AerSimulator\n",
        "from qiskit.visualization import plot_histogram\n",
        "import matplotlib.pyplot as plt\n",
        "\n",
        "# Create a circuit with 2 qubits and 2 classical bits\n",
        "qc = QuantumCircuit(2, 2)\n",
        "\n",
        "# Apply Hadamard on both qubits → Creates equal superposition\n",
        "qc.h([0, 1])\n",
        "\n",
        "# Measure both qubits\n",
        "qc.measure([0, 1], [0, 1])\n",
        "\n",
        "# Run simulation\n",
        "simulator = AerSimulator()\n",
        "compiled = transpile(qc, simulator)\n",
        "job = simulator.run(compiled, shots=1024)\n",
        "result = job.result()\n",
        "counts = result.get_counts()\n",
        "\n",
        "print(\"Measurement Results:\", counts)\n",
        "qc.draw('text')\n",
        "plt.show()\n",
        "plot_histogram(counts)\n",
        "plt.show()\n"
      ],
      "metadata": {
        "colab": {
          "base_uri": "https://localhost:8080/"
        },
        "id": "vDLZWBLd_EL4",
        "outputId": "d7708723-c130-42ed-c583-e63b9b228547"
      },
      "id": "vDLZWBLd_EL4",
      "execution_count": 8,
      "outputs": [
        {
          "output_type": "stream",
          "name": "stdout",
          "text": [
            "Measurement Results: {'01': 268, '00': 245, '10': 253, '11': 258}\n"
          ]
        }
      ]
    },
    {
      "cell_type": "markdown",
      "source": [
        "All four results (00, 01, 10, 11) appear with roughly equal probability (~25% each)."
      ],
      "metadata": {
        "id": "xDTOmKFU_HjX"
      },
      "id": "xDTOmKFU_HjX"
    },
    {
      "cell_type": "markdown",
      "source": [
        "**TASK 2**"
      ],
      "metadata": {
        "id": "g2tNune6_KNx"
      },
      "id": "g2tNune6_KNx"
    },
    {
      "cell_type": "code",
      "source": [
        "# Task 2: Apply X gate on the second qubit\n",
        "\n",
        "from qiskit import QuantumCircuit, transpile\n",
        "from qiskit_aer import AerSimulator\n",
        "from qiskit.visualization import plot_histogram\n",
        "import matplotlib.pyplot as plt\n",
        "\n",
        "qc = QuantumCircuit(2, 2)\n",
        "\n",
        "# Apply X on second qubit\n",
        "qc.x(1)\n",
        "\n",
        "# Measure both qubits\n",
        "qc.measure([0, 1], [0, 1])\n",
        "\n",
        "simulator = AerSimulator()\n",
        "compiled = transpile(qc, simulator)\n",
        "job = simulator.run(compiled, shots=1024)\n",
        "result = job.result()\n",
        "counts = result.get_counts()\n",
        "\n",
        "print(\"Measurement Results:\", counts)\n",
        "qc.draw('text')\n",
        "plt.show()\n",
        "plot_histogram(counts)\n",
        "plt.show()\n"
      ],
      "metadata": {
        "colab": {
          "base_uri": "https://localhost:8080/"
        },
        "id": "2mVRv2Yg_MUk",
        "outputId": "f07e2e3b-f34b-467b-ea89-3b290c4735a8"
      },
      "id": "2mVRv2Yg_MUk",
      "execution_count": 9,
      "outputs": [
        {
          "output_type": "stream",
          "name": "stdout",
          "text": [
            "Measurement Results: {'10': 1024}\n"
          ]
        }
      ]
    },
    {
      "cell_type": "markdown",
      "source": [
        "All measurements will show 10, because only the second qubit (qubit-1) was flipped to |1⟩."
      ],
      "metadata": {
        "id": "SSeAkbUm_QoP"
      },
      "id": "SSeAkbUm_QoP"
    },
    {
      "cell_type": "markdown",
      "source": [
        "**TASK 3**"
      ],
      "metadata": {
        "id": "37bqGyP0_Rf7"
      },
      "id": "37bqGyP0_Rf7"
    },
    {
      "cell_type": "code",
      "source": [
        "# Task 3: Add a CNOT gate to create entanglement\n",
        "\n",
        "from qiskit import QuantumCircuit, transpile\n",
        "from qiskit_aer import AerSimulator\n",
        "from qiskit.visualization import plot_histogram\n",
        "import matplotlib.pyplot as plt\n",
        "\n",
        "qc = QuantumCircuit(2, 2)\n",
        "\n",
        "# Hadamard on qubit 0, then CNOT to entangle with qubit 1\n",
        "qc.h(0)\n",
        "qc.cx(0, 1)\n",
        "\n",
        "# Measure both\n",
        "qc.measure([0, 1], [0, 1])\n",
        "\n",
        "simulator = AerSimulator()\n",
        "compiled = transpile(qc, simulator)\n",
        "job = simulator.run(compiled, shots=1024)\n",
        "result = job.result()\n",
        "counts = result.get_counts()\n",
        "\n",
        "print(\"Measurement Results:\", counts)\n",
        "qc.draw('text')\n",
        "plt.show()\n",
        "plot_histogram(counts)\n",
        "plt.show()\n"
      ],
      "metadata": {
        "colab": {
          "base_uri": "https://localhost:8080/"
        },
        "id": "N1-u2PQ8_YCf",
        "outputId": "b893d722-568a-4847-f948-99267a2af834"
      },
      "id": "N1-u2PQ8_YCf",
      "execution_count": 10,
      "outputs": [
        {
          "output_type": "stream",
          "name": "stdout",
          "text": [
            "Measurement Results: {'11': 496, '00': 528}\n"
          ]
        }
      ]
    },
    {
      "cell_type": "markdown",
      "source": [
        "Mostly 00 and 11, confirming an entangled Bell state\n",
        "∣Φ+⟩=(∣00⟩+∣11⟩)/√2."
      ],
      "metadata": {
        "id": "AAi43hBn_eoY"
      },
      "id": "AAi43hBn_eoY"
    },
    {
      "cell_type": "markdown",
      "source": [
        "**TASK 4**"
      ],
      "metadata": {
        "id": "-SVm1_-K_qgs"
      },
      "id": "-SVm1_-K_qgs"
    },
    {
      "cell_type": "code",
      "source": [
        "# Task 4: Increase the number of shots to 4096\n",
        "\n",
        "from qiskit import QuantumCircuit, transpile\n",
        "from qiskit_aer import AerSimulator\n",
        "from qiskit.visualization import plot_histogram\n",
        "import matplotlib.pyplot as plt\n",
        "\n",
        "qc = QuantumCircuit(2, 2)\n",
        "\n",
        "# Hadamard on both qubits\n",
        "qc.h([0, 1])\n",
        "qc.measure([0, 1], [0, 1])\n",
        "\n",
        "simulator = AerSimulator()\n",
        "compiled = transpile(qc, simulator)\n",
        "job = simulator.run(compiled, shots=4096)  # Increased shots\n",
        "result = job.result()\n",
        "counts = result.get_counts()\n",
        "\n",
        "print(\"Measurement Results:\", counts)\n",
        "qc.draw('text')\n",
        "plt.show()\n",
        "plot_histogram(counts)\n",
        "plt.show()\n"
      ],
      "metadata": {
        "colab": {
          "base_uri": "https://localhost:8080/"
        },
        "id": "3tiRy3s2_u9S",
        "outputId": "25dd5770-7e64-460b-e3a7-ad0001038a17"
      },
      "id": "3tiRy3s2_u9S",
      "execution_count": 11,
      "outputs": [
        {
          "output_type": "stream",
          "name": "stdout",
          "text": [
            "Measurement Results: {'11': 1026, '01': 1029, '00': 1058, '10': 983}\n"
          ]
        }
      ]
    },
    {
      "cell_type": "markdown",
      "source": [
        "Same 4 outcomes as Task 1, but the histogram bars will be more stable and less noisy."
      ],
      "metadata": {
        "id": "b5smpAHP_yGE"
      },
      "id": "b5smpAHP_yGE"
    },
    {
      "cell_type": "markdown",
      "source": [
        "**TASK 5**"
      ],
      "metadata": {
        "id": "Epd9c88s_4kR"
      },
      "id": "Epd9c88s_4kR"
    },
    {
      "cell_type": "code",
      "source": [
        "# Task 5: Bloch Sphere Visualization (before and after measurement)\n",
        "\n",
        "from qiskit import QuantumCircuit\n",
        "from qiskit.quantum_info import Statevector\n",
        "from qiskit_aer import AerSimulator\n",
        "from qiskit.visualization import plot_bloch_multivector, plot_histogram\n",
        "from qiskit import transpile\n",
        "import matplotlib.pyplot as plt\n",
        "\n",
        "# Create Bell state circuit\n",
        "qc = QuantumCircuit(2)\n",
        "qc.h(0)\n",
        "qc.cx(0, 1)\n",
        "\n",
        "# Get the state before measurement\n",
        "state_before = Statevector.from_instruction(qc)\n",
        "print(\"Bloch Sphere BEFORE Measurement:\")\n",
        "plot_bloch_multivector(state_before)\n",
        "plt.show()\n",
        "\n",
        "# Add measurement and run\n",
        "qc.measure_all()\n",
        "\n",
        "simulator = AerSimulator()\n",
        "compiled = transpile(qc, simulator)\n",
        "job = simulator.run(compiled, shots=1024)\n",
        "result = job.result()\n",
        "counts = result.get_counts()\n",
        "\n",
        "print(\"\\nMeasurement Results:\", counts)\n",
        "plot_histogram(counts)\n",
        "plt.show()\n"
      ],
      "metadata": {
        "colab": {
          "base_uri": "https://localhost:8080/"
        },
        "id": "xISe7m_4_6UG",
        "outputId": "0940171c-2f22-4427-a1d3-1bc2b2ea5c0b"
      },
      "id": "xISe7m_4_6UG",
      "execution_count": 12,
      "outputs": [
        {
          "output_type": "stream",
          "name": "stdout",
          "text": [
            "Bloch Sphere BEFORE Measurement:\n",
            "\n",
            "Measurement Results: {'00': 477, '11': 547}\n"
          ]
        }
      ]
    },
    {
      "cell_type": "markdown",
      "source": [
        "Before measurement: The Bloch sphere shows an entangled superposition.\n",
        "\n",
        "After measurement: The state collapses to either 00 or 11."
      ],
      "metadata": {
        "id": "a6dD9hZE_-oI"
      },
      "id": "a6dD9hZE_-oI"
    }
  ],
  "metadata": {
    "colab": {
      "provenance": [],
      "gpuType": "T4"
    },
    "language_info": {
      "name": "python"
    },
    "kernelspec": {
      "name": "python3",
      "display_name": "Python 3"
    },
    "accelerator": "GPU"
  },
  "nbformat": 4,
  "nbformat_minor": 5
}